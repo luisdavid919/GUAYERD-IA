import pandas as pd

notas=pd.DataFrame(dict(Juan=[6,8,9],Maria=[7,5,10],Pedro=[4,4,4]))   
notas              
  